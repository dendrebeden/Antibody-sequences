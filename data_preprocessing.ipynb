{
 "cells": [
  {
   "cell_type": "code",
   "execution_count": 1,
   "metadata": {},
   "outputs": [],
   "source": [
    "import os\n",
    "\n",
    "import pandas as pd\n",
    "import numpy as np\n",
    "\n",
    "from sklearn.model_selection import train_test_split\n",
    "from sklearn.utils import shuffle"
   ]
  },
  {
   "cell_type": "code",
   "execution_count": 2,
   "metadata": {},
   "outputs": [],
   "source": [
    "data_folder = \"../data/sample/vlen\""
   ]
  },
  {
   "cell_type": "code",
   "execution_count": 3,
   "metadata": {},
   "outputs": [],
   "source": [
    "human = pd.read_csv(os.path.join(data_folder, \"human_vlen.txt\"), header=None)"
   ]
  },
  {
   "cell_type": "code",
   "execution_count": 4,
   "metadata": {},
   "outputs": [],
   "source": [
    "mouse = pd.read_csv(os.path.join(data_folder, \"mouse_vlen.txt\"), header=None)"
   ]
  },
  {
   "cell_type": "code",
   "execution_count": 5,
   "metadata": {},
   "outputs": [],
   "source": [
    "human.columns = [\"sequence\"]\n",
    "mouse.columns = [\"sequence\"]\n",
    "\n",
    "human[\"target\"] = 1\n",
    "mouse[\"target\"] = 0"
   ]
  },
  {
   "cell_type": "code",
   "execution_count": 6,
   "metadata": {},
   "outputs": [],
   "source": [
    "human_train, human_test = train_test_split(human,\n",
    "    test_size=0.1, shuffle = True, random_state = 1)\n",
    "\n",
    "human_val, human_test = train_test_split(human_test, \n",
    "    test_size=0.5, random_state= 1) # 0.1 x 0.5 = 0.05"
   ]
  },
  {
   "cell_type": "code",
   "execution_count": 7,
   "metadata": {},
   "outputs": [
    {
     "data": {
      "text/plain": [
       "((459090, 2), (25505, 2), (25506, 2))"
      ]
     },
     "execution_count": 7,
     "metadata": {},
     "output_type": "execute_result"
    }
   ],
   "source": [
    "human_train.shape, human_val.shape, human_test.shape"
   ]
  },
  {
   "cell_type": "code",
   "execution_count": 8,
   "metadata": {},
   "outputs": [],
   "source": [
    "mouse_train, mouse_test = train_test_split(mouse,\n",
    "    test_size=0.1, shuffle = True, random_state = 1)\n",
    "\n",
    "mouse_val, mouse_test = train_test_split(mouse_test, \n",
    "    test_size=0.5, random_state= 1) # 0.1 x 0.5 = 0.05"
   ]
  },
  {
   "cell_type": "code",
   "execution_count": 9,
   "metadata": {},
   "outputs": [
    {
     "data": {
      "text/plain": [
       "((450000, 2), (25000, 2), (25000, 2))"
      ]
     },
     "execution_count": 9,
     "metadata": {},
     "output_type": "execute_result"
    }
   ],
   "source": [
    "mouse_train.shape, mouse_val.shape, mouse_test.shape"
   ]
  },
  {
   "cell_type": "code",
   "execution_count": 10,
   "metadata": {},
   "outputs": [],
   "source": [
    "train = shuffle(\n",
    "    pd.concat([human_train, mouse_train], ignore_index=True)\n",
    ")\n",
    "val = shuffle(\n",
    "    pd.concat([human_val, mouse_val], ignore_index=True)\n",
    ")\n",
    "test = shuffle(\n",
    "    pd.concat([human_test, mouse_test], ignore_index=True)\n",
    ")"
   ]
  },
  {
   "cell_type": "code",
   "execution_count": 11,
   "metadata": {},
   "outputs": [
    {
     "data": {
      "text/plain": [
       "((909090, 2), (50505, 2), (50506, 2))"
      ]
     },
     "execution_count": 11,
     "metadata": {},
     "output_type": "execute_result"
    }
   ],
   "source": [
    "train.shape, val.shape, test.shape"
   ]
  },
  {
   "cell_type": "code",
   "execution_count": 12,
   "metadata": {},
   "outputs": [],
   "source": [
    "train.to_csv(os.path.join(data_folder, \"train_vlen.txt\"), index=False)\n",
    "val.to_csv(os.path.join(data_folder, \"val_vlen.txt\"), index=False)\n",
    "test.to_csv(os.path.join(data_folder, \"test_vlen.txt\"), index=False)"
   ]
  }
 ],
 "metadata": {
  "kernelspec": {
   "display_name": "Python 3 (ipykernel)",
   "language": "python",
   "name": "python3"
  },
  "language_info": {
   "codemirror_mode": {
    "name": "ipython",
    "version": 3
   },
   "file_extension": ".py",
   "mimetype": "text/x-python",
   "name": "python",
   "nbconvert_exporter": "python",
   "pygments_lexer": "ipython3",
   "version": "3.10.4"
  },
  "vscode": {
   "interpreter": {
    "hash": "caf1c2fcf97217de91eafa76b907d50f9ea378f5ffbee7f571142d119bb6a771"
   }
  }
 },
 "nbformat": 4,
 "nbformat_minor": 2
}
