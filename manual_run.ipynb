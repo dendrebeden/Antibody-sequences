{
 "cells": [
  {
   "cell_type": "markdown",
   "metadata": {},
   "source": [
    "# Human/mouse protein sequence classification"
   ]
  },
  {
   "cell_type": "markdown",
   "metadata": {},
   "source": [
    "This notebook serves for testing purposes of protein sequences classification.\n",
    "\n",
    "Below you'll find exemplary initialization, training, loading and evaluation of 2 models which where chosen for this task:\n",
    "1) Bidirectional LSTM\n",
    "2) 'Shallow' CNN\n",
    "\n",
    "The output is in range [0, 1], where 0 is the closest similarity to mouse and 1 is to human.\n",
    "\n",
    "_P.S: since models use softmax activation in the output (which for K=2 is equivalent to sigmoid function) you can use them to for multiclass classification task._\n",
    "\n",
    "_Important note: this example presents species classification for variable length data. In case of fixed length you can follow the same steps but at first you'll need to preprocess __flen__ data, and at second set __fixed_len__ and __gapped__ parameters to __True__ in models initialization_"
   ]
  },
  {
   "cell_type": "markdown",
   "metadata": {},
   "source": [
    "## Data preparation"
   ]
  },
  {
   "cell_type": "markdown",
   "metadata": {},
   "source": [
    "Data contains aproximately 500k observations for each of species - 1kk in total with 90/5/5 train/val/test sets split."
   ]
  },
  {
   "cell_type": "code",
   "execution_count": 1,
   "metadata": {},
   "outputs": [
    {
     "name": "stdout",
     "output_type": "stream",
     "text": [
      "Data is ready.\n"
     ]
    }
   ],
   "source": [
    "from utils_data import preprocess_classification_data\n",
    "preprocess_classification_data(\n",
    "    human_path = \"./data/sample/vlen/human_vlen.txt\",\n",
    "    mouse_path = \"./data/sample/vlen/mouse_vlen.txt\",\n",
    "    save_path = \"./data/sample/vlen\"\n",
    ")\n",
    "print('Data is ready.')"
   ]
  },
  {
   "cell_type": "markdown",
   "metadata": {},
   "source": [
    "## Initialization"
   ]
  },
  {
   "cell_type": "code",
   "execution_count": 2,
   "metadata": {},
   "outputs": [
    {
     "name": "stdout",
     "output_type": "stream",
     "text": [
      "Models initialized.\n"
     ]
    }
   ],
   "source": [
    "from ablstm import ModelLSTM\n",
    "from ablstm import ModelCNN\n",
    "\n",
    "# initialize models\n",
    "# change device to 'CUDA' if you wish to have a faster training\n",
    "lstm_model = ModelLSTM(embedding_dim=64, hidden_dim=64, out_dim=2, gapped=False, fixed_len=False)\n",
    "cnn_model = ModelCNN(embedding_dim=64, hidden_dim=64, out_dim=2, gapped=False, fixed_len=False)\n",
    "print('Models initialized.')"
   ]
  },
  {
   "cell_type": "markdown",
   "metadata": {},
   "source": [
    "## Training"
   ]
  },
  {
   "cell_type": "code",
   "execution_count": 3,
   "metadata": {
    "tags": []
   },
   "outputs": [],
   "source": [
    "# data files\n",
    "trn_fn = './data/sample/vlen/train_vlen.txt'\n",
    "vld_fn = './data/sample/vlen/val_vlen.txt'"
   ]
  },
  {
   "cell_type": "markdown",
   "metadata": {},
   "source": [
    "#### Models fit"
   ]
  },
  {
   "cell_type": "markdown",
   "metadata": {},
   "source": [
    "It takes quite a long time to train __LSTM-Bi__ on variable length sequences, thus it's hardly recomended to load this model\n",
    "\n",
    "For __CNN__ the training time is much better so you are welcome test that."
   ]
  },
  {
   "cell_type": "code",
   "execution_count": 4,
   "metadata": {
    "tags": []
   },
   "outputs": [],
   "source": [
    "# fit lstm-bi model\n",
    "# lstm_model.fit(trn_fn=trn_fn, vld_fn=vld_fn, n_epoch=1, trn_batch_size=128, vld_batch_size=512, lr=.002, save_fp=None)\n",
    "# print('Done.')\n",
    "# # fit cnn model\n",
    "# cnn_model.fit(trn_fn=trn_fn, vld_fn=vld_fn, n_epoch=1, trn_batch_size=128, vld_batch_size=512, lr=.002, save_fp=None)\n",
    "# print('Done.')"
   ]
  },
  {
   "cell_type": "markdown",
   "metadata": {
    "tags": []
   },
   "source": [
    "#### Models load"
   ]
  },
  {
   "cell_type": "markdown",
   "metadata": {},
   "source": [
    "Both of models were trained for 2 epochs on full data. "
   ]
  },
  {
   "cell_type": "code",
   "execution_count": 5,
   "metadata": {},
   "outputs": [
    {
     "name": "stdout",
     "output_type": "stream",
     "text": [
      "Model loaded from ./saved_models/tmp/trained_LSTM_Bi.npy\n",
      "Model loaded from ./saved_models/tmp/trained_CNN.npy\n"
     ]
    }
   ],
   "source": [
    "# load lstm-bi model\n",
    "lstm_model.load('./saved_models/tmp/trained_LSTM_Bi.npy')\n",
    "print('Model loaded from ./saved_models/tmp/trained_LSTM_Bi.npy')\n",
    "# load cnn model\n",
    "cnn_model.load('./saved_models/tmp/trained_CNN.npy')\n",
    "print('Model loaded from ./saved_models/tmp/trained_CNN.npy')"
   ]
  },
  {
   "cell_type": "markdown",
   "metadata": {},
   "source": [
    "## Evaluation"
   ]
  },
  {
   "cell_type": "code",
   "execution_count": 6,
   "metadata": {},
   "outputs": [],
   "source": [
    "# data file names\n",
    "import pandas as pd\n",
    "\n",
    "classes = [\"mouse\", \"human\"]\n",
    "\n",
    "tst_fn = './data/sample/vlen/test_vlen.txt'\n",
    "y_true = pd.read_csv(tst_fn)[\"target\"].values\n",
    "y_true_classes = [classes[x] for x in y_true]"
   ]
  },
  {
   "cell_type": "code",
   "execution_count": 7,
   "metadata": {
    "tags": []
   },
   "outputs": [
    {
     "name": "stdout",
     "output_type": "stream",
     "text": [
      "Evaluating sequences...\n"
     ]
    },
    {
     "name": "stderr",
     "output_type": "stream",
     "text": [
      "100%|| 50506/50506 [00:26<00:00, 1936.45seq/s]\n"
     ]
    },
    {
     "name": "stdout",
     "output_type": "stream",
     "text": [
      "LSTM evaluation done.\n"
     ]
    }
   ],
   "source": [
    "# evaluate lastm\n",
    "print('Evaluating sequences...')\n",
    "lstm_tst_scores = lstm_model.eval(fn=tst_fn, batch_size=512)\n",
    "y_pred_lstm = [1 if x > 0.5 else 0 for x in lstm_tst_scores]\n",
    "y_pred_classes_lstm = [classes[x] for x in y_pred_lstm]\n",
    "print('LSTM evaluation done.')"
   ]
  },
  {
   "cell_type": "code",
   "execution_count": 8,
   "metadata": {},
   "outputs": [
    {
     "name": "stdout",
     "output_type": "stream",
     "text": [
      "Evaluating sequences...\n"
     ]
    },
    {
     "name": "stderr",
     "output_type": "stream",
     "text": [
      "100%|| 50506/50506 [00:22<00:00, 2244.17seq/s]\n"
     ]
    },
    {
     "name": "stdout",
     "output_type": "stream",
     "text": [
      "CNN evaluation done.\n"
     ]
    }
   ],
   "source": [
    "# evaluate cnn\n",
    "print('Evaluating sequences...')\n",
    "cnn_tst_scores = cnn_model.eval(fn=tst_fn, batch_size=512)\n",
    "y_pred_cnn = [1 if x > 0.5 else 0 for x in cnn_tst_scores]\n",
    "y_pred_classes_cnn = [classes[x] for x in y_pred_cnn]\n",
    "print('CNN evaluation done.')"
   ]
  },
  {
   "cell_type": "markdown",
   "metadata": {
    "tags": []
   },
   "source": [
    "Let's visualize the results."
   ]
  },
  {
   "cell_type": "code",
   "execution_count": 9,
   "metadata": {},
   "outputs": [],
   "source": [
    "import scikitplot as skplt"
   ]
  },
  {
   "cell_type": "code",
   "execution_count": 10,
   "metadata": {},
   "outputs": [
    {
     "data": {
      "text/plain": [
       "<AxesSubplot:title={'center':'LSTM-Bi Cinfusion Matrix'}, xlabel='Predicted label', ylabel='True label'>"
      ]
     },
     "execution_count": 10,
     "metadata": {},
     "output_type": "execute_result"
    },
    {
     "data": {
      "image/png": "[encoded data removed]",
      "text/plain": [
       "<Figure size 864x864 with 2 Axes>"
      ]
     },
     "metadata": {
      "needs_background": "light"
     },
     "output_type": "display_data"
    }
   ],
   "source": [
    "skplt.metrics.plot_confusion_matrix(\n",
    "    y_true_classes,\n",
    "    y_pred_classes_lstm,\n",
    "    title=\"LSTM-Bi Cinfusion Matrix\",\n",
    "    figsize=(12,12),x_tick_rotation=90)"
   ]
  },
  {
   "cell_type": "code",
   "execution_count": 11,
   "metadata": {},
   "outputs": [
    {
     "data": {
      "text/plain": [
       "<AxesSubplot:title={'center':'CNN Confusion Matrix'}, xlabel='Predicted label', ylabel='True label'>"
      ]
     },
     "execution_count": 11,
     "metadata": {},
     "output_type": "execute_result"
    },
    {
     "data": {
      "image/png": "[encoded data removed]",
      "text/plain": [
       "<Figure size 864x864 with 2 Axes>"
      ]
     },
     "metadata": {
      "needs_background": "light"
     },
     "output_type": "display_data"
    }
   ],
   "source": [
    "skplt.metrics.plot_confusion_matrix(\n",
    "    y_true_classes,\n",
    "    y_pred_classes_cnn,\n",
    "    title=\"CNN Confusion Matrix\",\n",
    "    figsize=(12,12),x_tick_rotation=90)"
   ]
  }
 ],
 "metadata": {
  "kernelspec": {
   "display_name": "Python 3 (ipykernel)",
   "language": "python",
   "name": "python3"
  },
  "language_info": {
   "codemirror_mode": {
    "name": "ipython",
    "version": 3
   },
   "file_extension": ".py",
   "mimetype": "text/x-python",
   "name": "python",
   "nbconvert_exporter": "python",
   "pygments_lexer": "ipython3",
   "version": "3.10.4"
  },
  "vscode": {
   "interpreter": {
    "hash": "caf1c2fcf97217de91eafa76b907d50f9ea378f5ffbee7f571142d119bb6a771"
   }
  }
 },
 "nbformat": 4,
 "nbformat_minor": 4
}
