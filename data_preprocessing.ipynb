{
 "cells": [
  {
   "cell_type": "code",
   "execution_count": 24,
   "metadata": {},
   "outputs": [],
   "source": [
    "import os\n",
    "\n",
    "import pandas as pd\n",
    "import numpy as np\n",
    "\n",
    "from sklearn.model_selection import train_test_split"
   ]
  },
  {
   "cell_type": "code",
   "execution_count": 25,
   "metadata": {},
   "outputs": [],
   "source": [
    "data_folder = \"data/sample/vlen\""
   ]
  },
  {
   "cell_type": "code",
   "execution_count": 26,
   "metadata": {},
   "outputs": [],
   "source": [
    "human = pd.read_csv(os.path.join(data_folder, \"human_vlen.txt\"), header=None)"
   ]
  },
  {
   "cell_type": "code",
   "execution_count": 27,
   "metadata": {},
   "outputs": [],
   "source": [
    "mouse = pd.read_csv(os.path.join(data_folder, \"mouse_vlen.txt\"), header=None)"
   ]
  },
  {
   "cell_type": "code",
   "execution_count": 28,
   "metadata": {},
   "outputs": [],
   "source": [
    "human_train, human_test = train_test_split(human,\n",
    "    test_size=0.1, shuffle = True, random_state = 1)\n",
    "\n",
    "human_val, human_test = train_test_split(human_test, \n",
    "    test_size=0.5, random_state= 1) # 0.1 x 0.5 = 0.05"
   ]
  },
  {
   "cell_type": "code",
   "execution_count": 29,
   "metadata": {},
   "outputs": [
    {
     "data": {
      "text/plain": [
       "((459090, 1), (25505, 1), (25506, 1))"
      ]
     },
     "execution_count": 29,
     "metadata": {},
     "output_type": "execute_result"
    }
   ],
   "source": [
    "human_train.shape, human_val.shape, human_test.shape"
   ]
  },
  {
   "cell_type": "code",
   "execution_count": 30,
   "metadata": {},
   "outputs": [],
   "source": [
    "mouse_train, mouse_test = train_test_split(mouse,\n",
    "    test_size=0.1, shuffle = True, random_state = 1)\n",
    "\n",
    "mouse_val, mouse_test = train_test_split(mouse_test, \n",
    "    test_size=0.5, random_state= 1) # 0.1 x 0.5 = 0.05"
   ]
  },
  {
   "cell_type": "code",
   "execution_count": 31,
   "metadata": {},
   "outputs": [
    {
     "data": {
      "text/plain": [
       "((450000, 1), (25000, 1), (25000, 1))"
      ]
     },
     "execution_count": 31,
     "metadata": {},
     "output_type": "execute_result"
    }
   ],
   "source": [
    "mouse_train.shape, mouse_val.shape, mouse_test.shape"
   ]
  },
  {
   "cell_type": "code",
   "execution_count": 32,
   "metadata": {},
   "outputs": [],
   "source": [
    "human_train.to_csv(os.path.join(data_folder, \"human_train_vlen.txt\"))\n",
    "human_val.to_csv(os.path.join(data_folder, \"human_val_vlen.txt\"))\n",
    "human_test.to_csv(os.path.join(data_folder, \"human_test_vlen.txt\"))"
   ]
  },
  {
   "cell_type": "code",
   "execution_count": 33,
   "metadata": {},
   "outputs": [],
   "source": [
    "mouse_train.to_csv(os.path.join(data_folder, \"mouse_train_vlen.txt\"))\n",
    "mouse_val.to_csv(os.path.join(data_folder, \"mouse_val_vlen.txt\"))\n",
    "mouse_test.to_csv(os.path.join(data_folder, \"mouse_test_vlen.txt\"))"
   ]
  }
 ],
 "metadata": {
  "kernelspec": {
   "display_name": "Python 3 (ipykernel)",
   "language": "python",
   "name": "python3"
  },
  "language_info": {
   "codemirror_mode": {
    "name": "ipython",
    "version": 3
   },
   "file_extension": ".py",
   "mimetype": "text/x-python",
   "name": "python",
   "nbconvert_exporter": "python",
   "pygments_lexer": "ipython3",
   "version": "3.10.4"
  },
  "vscode": {
   "interpreter": {
    "hash": "caf1c2fcf97217de91eafa76b907d50f9ea378f5ffbee7f571142d119bb6a771"
   }
  }
 },
 "nbformat": 4,
 "nbformat_minor": 2
}
